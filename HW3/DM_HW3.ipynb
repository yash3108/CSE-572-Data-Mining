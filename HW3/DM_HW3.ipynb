{
  "cells": [
    {
      "cell_type": "markdown",
      "source": [
        "#Task 1"
      ],
      "metadata": {
        "id": "GpaBCJEEUsVE"
      }
    },
    {
      "cell_type": "code",
      "source": [
        "import numpy as np\n",
        "from collections import Counter\n",
        "import pandas as pd\n",
        "from sklearn.metrics.pairwise import cosine_similarity\n",
        "from scipy.stats import mode\n",
        "from sklearn.metrics import accuracy_score"
      ],
      "metadata": {
        "id": "EpWTSKLAUudm"
      },
      "execution_count": 1,
      "outputs": []
    },
    {
      "cell_type": "code",
      "source": [
        "class Kmeans:\n",
        "    def __init__(self, n_clust, max_itr=30, tol=1e-2, dist='euclidean'):\n",
        "        self.n_clust = n_clust\n",
        "        self.max_itr = max_itr\n",
        "        self.tol = tol\n",
        "        self.distance_metric = dist\n",
        "        self.centroids = None\n",
        "        self.iter = 0\n",
        "\n",
        "    def initialize_centroids(self, X):\n",
        "        indices = np.random.choice(X.shape[0], self.n_clust, replace=False)\n",
        "        return X[indices]\n",
        "\n",
        "    def calculate_distance(self, x1, x2):\n",
        "        if self.distance_metric == 'euclidean':\n",
        "            return np.linalg.norm(x1 - x2)\n",
        "        elif self.distance_metric == 'cosine':\n",
        "            return 1 - np.dot(x1, x2) / (np.linalg.norm(x1) * np.linalg.norm(x2))\n",
        "        elif self.distance_metric == 'jaccard':\n",
        "            intersection = np.sum(np.minimum(x1, x2))\n",
        "            union = np.sum(np.maximum(x1, x2))\n",
        "            return 1 - intersection / union\n",
        "        else:\n",
        "            raise ValueError(\"Invalid distance metric. Supported metrics: 'euclidean', 'cosine', 'jaccard'.\")\n",
        "\n",
        "    def assign_clusters(self, X):\n",
        "        distances = np.array([[self.calculate_distance(x, centroid) for centroid in self.centroids] for x in X])\n",
        "        return np.argmin(distances, axis=1)\n",
        "\n",
        "    def update_centroids(self, X, labels):\n",
        "        new_centroids = np.array([np.mean(X[labels == i], axis=0) for i in range(self.n_clust)])\n",
        "        return new_centroids\n",
        "\n",
        "    def fit(self, X):\n",
        "        self.centroids = self.initialize_centroids(X)\n",
        "        previous_sse = None\n",
        "\n",
        "        for self.iter in range(self.max_itr):\n",
        "            old_centroids = self.centroids.copy()\n",
        "\n",
        "            labels = self.assign_clusters(X)\n",
        "\n",
        "            self.centroids = self.update_centroids(X, labels)\n",
        "\n",
        "            current_sse = self.sse_calculate(X, labels)\n",
        "\n",
        "\n",
        "            previous_sse = current_sse\n",
        "\n",
        "            # Check for maximum iterations\n",
        "            if self.iter == self.max_itr - 1:\n",
        "                break\n",
        "\n",
        "        return labels\n",
        "\n",
        "    def sse_calculate(self, X, labels):\n",
        "        sse = 0\n",
        "        for i in range(self.n_clust):\n",
        "            cluster_points = X[labels == i]\n",
        "            centroid = self.centroids[i]\n",
        "            sse += np.sum(np.square(cluster_points - centroid))\n",
        "        return sse"
      ],
      "metadata": {
        "id": "-6ogvsi0Uyul"
      },
      "execution_count": 2,
      "outputs": []
    },
    {
      "cell_type": "code",
      "source": [
        "df_d = pd.read_csv(\"/content/data.csv\", header=None)\n",
        "df_l = pd.read_csv(\"/content/label.csv\", header=None)"
      ],
      "metadata": {
        "id": "7QDHKOGAVWXW"
      },
      "execution_count": 3,
      "outputs": []
    },
    {
      "cell_type": "code",
      "source": [
        "k = df_l[0].nunique()\n",
        "print(\"No of CLusters: \", k)"
      ],
      "metadata": {
        "colab": {
          "base_uri": "https://localhost:8080/"
        },
        "id": "zUjetx7Teu2f",
        "outputId": "6ec96c01-7ff8-4793-8d78-16165c0ebe52"
      },
      "execution_count": 4,
      "outputs": [
        {
          "output_type": "stream",
          "name": "stdout",
          "text": [
            "No of CLusters:  10\n"
          ]
        }
      ]
    },
    {
      "cell_type": "code",
      "source": [
        "data = df_d.values"
      ],
      "metadata": {
        "id": "al7C3s2GWQoV"
      },
      "execution_count": 5,
      "outputs": []
    },
    {
      "cell_type": "code",
      "source": [
        "def sse_kmeans(dataset, distance):\n",
        "    kmeans = Kmeans(n_clust=k, dist=distance)\n",
        "    labels = kmeans.fit(dataset)\n",
        "    return kmeans.sse_calculate(dataset, labels), labels"
      ],
      "metadata": {
        "id": "nYsTIvwrVgA7"
      },
      "execution_count": 6,
      "outputs": []
    },
    {
      "cell_type": "code",
      "source": [
        "euclidean_sse, euc_labels = sse_kmeans(data, 'euclidean')\n",
        "cosine_sse, cos_labels = sse_kmeans(data, 'cosine')\n",
        "jaccard_sse, jac_labels = sse_kmeans(data, 'jaccard')"
      ],
      "metadata": {
        "id": "fMF_ZMlpWfNb"
      },
      "execution_count": 7,
      "outputs": []
    },
    {
      "cell_type": "code",
      "source": [
        "print(\"Euclidean SSE:\", euclidean_sse)\n",
        "print(\"Cosine SSE:\", cosine_sse)\n",
        "print(\"Jaccard SSE:\", jaccard_sse)"
      ],
      "metadata": {
        "colab": {
          "base_uri": "https://localhost:8080/"
        },
        "id": "Aq6Wk3ROWr1r",
        "outputId": "dc6cd42b-d614-479e-d061-2672596e74c2"
      },
      "execution_count": 8,
      "outputs": [
        {
          "output_type": "stream",
          "name": "stdout",
          "text": [
            "Euclidean SSE: 25369377531.591858\n",
            "Cosine SSE: 25457687521.431095\n",
            "Jaccard SSE: 25415429151.388924\n"
          ]
        }
      ]
    },
    {
      "cell_type": "code",
      "source": [
        "def sse_kmeans(dataset, distance):\n",
        "    kmeans = Kmeans(n_clust=k, dist=distance, max_itr=50)\n",
        "    labels = kmeans.fit(dataset)\n",
        "    return kmeans.sse_calculate(dataset, labels)"
      ],
      "metadata": {
        "id": "F6LkHZ5SZtWr"
      },
      "execution_count": 71,
      "outputs": []
    },
    {
      "cell_type": "code",
      "source": [
        "euclidean_sse = sse_kmeans(data, 'euclidean')\n",
        "cosine_sse = sse_kmeans(data, 'cosine')\n",
        "jaccard_sse = sse_kmeans(data, 'jaccard')"
      ],
      "metadata": {
        "id": "nbns4n1uZvjN"
      },
      "execution_count": 72,
      "outputs": []
    },
    {
      "cell_type": "code",
      "source": [
        "print(\"Euclidean SSE:\", euclidean_sse)\n",
        "print(\"Cosine SSE:\", cosine_sse)\n",
        "print(\"Jaccard SSE:\", jaccard_sse)"
      ],
      "metadata": {
        "colab": {
          "base_uri": "https://localhost:8080/"
        },
        "id": "_NDesYAxZxoG",
        "outputId": "52d616c0-2c88-4158-c80f-abd38b163a67"
      },
      "execution_count": 73,
      "outputs": [
        {
          "output_type": "stream",
          "name": "stdout",
          "text": [
            "Euclidean SSE: 25428422878.677235\n",
            "Cosine SSE: 25680134338.728954\n",
            "Jaccard SSE: 25591106704.390587\n"
          ]
        }
      ]
    },
    {
      "cell_type": "markdown",
      "source": [
        "Q2: Compare the accuracies of Euclidean-K-means Cosine-K-means, Jarcard-K-means. First,\n",
        "label each cluster using the majority vote label of the data points in that cluster. Later, compute\n",
        "the predictive accuracy of Euclidean-K-means, Cosine-K-means, Jarcard-K-means."
      ],
      "metadata": {
        "id": "vWRwz7MJa0Qp"
      }
    },
    {
      "cell_type": "code",
      "source": [
        "def assign_labels(labels, truth_val):\n",
        "    cluster_majority_labels = []\n",
        "    for i in range(np.max(labels) + 1):\n",
        "        cluster_indices = np.where(labels == i)[0]\n",
        "        cluster_truth_val = truth_val.iloc[cluster_indices]\n",
        "        mode_result = mode(cluster_truth_val)\n",
        "        majority_label = mode_result.mode\n",
        "        cluster_majority_labels.append(majority_label)\n",
        "    return cluster_majority_labels"
      ],
      "metadata": {
        "id": "JhspNCLtbATk"
      },
      "execution_count": 9,
      "outputs": []
    },
    {
      "cell_type": "code",
      "source": [
        "majority_labels_euc = assign_labels(euc_labels, df_l[0])\n",
        "majority_labels_cos = assign_labels(cos_labels, df_l[0])\n",
        "majority_labels_jac = assign_labels(jac_labels, df_l[0])"
      ],
      "metadata": {
        "id": "K9tVhfo2btrV"
      },
      "execution_count": 10,
      "outputs": []
    },
    {
      "cell_type": "code",
      "source": [
        "acc_euc = accuracy_score(df_l[0], [majority_labels_euc[i] for i in euc_labels])\n",
        "acc_cos = accuracy_score(df_l[0], [majority_labels_cos[i] for i in cos_labels])\n",
        "acc_jac = accuracy_score(df_l[0], [majority_labels_jac[i] for i in jac_labels])"
      ],
      "metadata": {
        "id": "IyW7ObHPcko9"
      },
      "execution_count": 11,
      "outputs": []
    },
    {
      "cell_type": "code",
      "source": [
        "print(f\"Accuracy Euclidean-K-means: {acc_euc:.10%}\")\n",
        "print(f\"Accuracy Cosine-K-means: {acc_cos:.10%}\")\n",
        "print(f\"Accuracy Jaccard-K-means: {acc_jac:.10%}\")"
      ],
      "metadata": {
        "colab": {
          "base_uri": "https://localhost:8080/"
        },
        "id": "DxhQiaDLdCW-",
        "outputId": "2a9c9e9d-97b2-4dcc-978a-4dfdf4be8af5"
      },
      "execution_count": 12,
      "outputs": [
        {
          "output_type": "stream",
          "name": "stdout",
          "text": [
            "Accuracy Euclidean-K-means: 63.3800000000%\n",
            "Accuracy Cosine-K-means: 63.0900000000%\n",
            "Accuracy Jaccard-K-means: 60.6600000000%\n"
          ]
        }
      ]
    },
    {
      "cell_type": "markdown",
      "source": [
        "Q3. Set up the same stop criteria: “when there is no change in centroid position OR when the\n",
        "SSE value increases in the next iteration OR when the maximum preset value (e.g., 500, you\n",
        "can set the preset value by yourself) of iteration is complete”, for Euclidean-K-means, Cosine-K-\n",
        "means, Jarcard-K-means."
      ],
      "metadata": {
        "id": "RuaPnMgCfVJE"
      }
    },
    {
      "cell_type": "markdown",
      "source": [
        "No Change in centroid position"
      ],
      "metadata": {
        "id": "vEJaD9y6to9V"
      }
    },
    {
      "cell_type": "code",
      "source": [
        "class Kmeans:\n",
        "    def __init__(self, n_clust, max_itr=30, tol=1e-2, dist='euclidean'):\n",
        "        self.n_clust = n_clust\n",
        "        self.max_itr = max_itr\n",
        "        self.tol = tol\n",
        "        self.distance_metric = dist\n",
        "        self.centroids = None\n",
        "        self.iter = 0\n",
        "\n",
        "    def initialize_centroids(self, X):\n",
        "        indices = np.random.choice(X.shape[0], self.n_clust, replace=False)\n",
        "        return X[indices]\n",
        "\n",
        "    def calculate_distance(self, x1, x2):\n",
        "        if self.distance_metric == 'euclidean':\n",
        "            return np.linalg.norm(x1 - x2)\n",
        "        elif self.distance_metric == 'cosine':\n",
        "            return 1 - np.dot(x1, x2) / (np.linalg.norm(x1) * np.linalg.norm(x2))\n",
        "        elif self.distance_metric == 'jaccard':\n",
        "            intersection = np.sum(np.minimum(x1, x2))\n",
        "            union = np.sum(np.maximum(x1, x2))\n",
        "            return 1 - intersection / union\n",
        "        else:\n",
        "            raise ValueError(\"Invalid distance metric.\")\n",
        "\n",
        "    def assign_clusters(self, X):\n",
        "        distances = np.array([[self.calculate_distance(x, centroid) for centroid in self.centroids] for x in X])\n",
        "        return np.argmin(distances, axis=1)\n",
        "\n",
        "    def update_centroids(self, X, labels):\n",
        "        new_centroids = np.array([np.mean(X[labels == i], axis=0) for i in range(self.n_clust)])\n",
        "        return new_centroids\n",
        "\n",
        "    def compute_centroid_dist(self, x1, x2):\n",
        "        if self.distance_metric == 'euclidean':\n",
        "            return np.linalg.norm(x1 - x2)\n",
        "        elif self.distance_metric == 'cosine':\n",
        "            x1, x2 = x1.flatten(), x2.flatten()\n",
        "            return 1 - np.dot(x1, x2) / (np.linalg.norm(x1) * np.linalg.norm(x2))\n",
        "        elif self.distance_metric == 'jaccard':\n",
        "            intersection = np.sum(np.minimum(x1, x2))\n",
        "            union = np.sum(np.maximum(x1, x2))\n",
        "            return 1 - intersection / union\n",
        "        else:\n",
        "            raise ValueError(\"Invalid distance metric.\")\n",
        "\n",
        "    def fit(self, X):\n",
        "        self.centroids = self.initialize_centroids(X)\n",
        "        previous_sse = None\n",
        "\n",
        "        for self.iter in range(self.max_itr):\n",
        "            old_centroids = self.centroids.copy()\n",
        "\n",
        "            labels = self.assign_clusters(X)\n",
        "\n",
        "            self.centroids = self.update_centroids(X, labels)\n",
        "\n",
        "            # current_sse = self.sse_calculate(X, labels)\n",
        "\n",
        "\n",
        "            # previous_sse = current_sse\n",
        "\n",
        "            change = self.compute_centroid_dist(old_centroids, self.centroids)\n",
        "            # print(change)\n",
        "            if change <= 10**-6:\n",
        "                # print(f'For {self.distance_metric} Max iter: {self.iteration}')\n",
        "                break\n",
        "\n",
        "            current_sse = self.sse_calculate(X, labels)\n",
        "            previous_sse = current_sse\n",
        "\n",
        "            # current_sse = self.sse_calculate(X, labels)\n",
        "            # previous_sse = current_sse\n",
        "            # if current_sse > previous_sse:\n",
        "              # break\n",
        "\n",
        "            # Check for maximum iterations\n",
        "            # if self.iter == self.max_itr - 1:\n",
        "            #     break\n",
        "\n",
        "        return labels\n",
        "\n",
        "    def sse_calculate(self, X, labels):\n",
        "        sse = 0\n",
        "        for i in range(self.n_clust):\n",
        "            cluster_points = X[labels == i]\n",
        "            centroid = self.centroids[i]\n",
        "            sse += np.sum(np.square(cluster_points - centroid))\n",
        "        return sse"
      ],
      "metadata": {
        "id": "UqB2MosLfU2v"
      },
      "execution_count": 13,
      "outputs": []
    },
    {
      "cell_type": "code",
      "source": [
        "def sse_kmeans_3(dataset, distance):\n",
        "    kmeans = Kmeans(n_clust=k, dist=distance, max_itr=110)\n",
        "    labels = kmeans.fit(dataset)\n",
        "    return kmeans.sse_calculate(dataset, labels), labels, kmeans.iter"
      ],
      "metadata": {
        "id": "Lk_MsQ6ChVIO"
      },
      "execution_count": 14,
      "outputs": []
    },
    {
      "cell_type": "code",
      "source": [
        "euclidean_sse, euc_labels, euc_itr = sse_kmeans_3(data, 'euclidean')\n",
        "cosine_sse, cos_labels, cos_itr = sse_kmeans_3(data, 'cosine')\n",
        "jaccard_sse, jac_labels, jac_itr = sse_kmeans_3(data, 'jaccard')\n",
        "\n",
        "print(f\"Euclidean SSE: {euclidean_sse}, iters: {euc_itr}\")\n",
        "print(f\"Cosine SSE: {cosine_sse}, iters: {cos_itr}\")\n",
        "print(f\"Jaccard SSE: {jaccard_sse}, iters: {jac_itr}\")"
      ],
      "metadata": {
        "colab": {
          "base_uri": "https://localhost:8080/"
        },
        "id": "39HC-Ihmh1nl",
        "outputId": "d5e87b6f-adef-4f91-d69b-1ad3b7e76fdf"
      },
      "execution_count": 15,
      "outputs": [
        {
          "output_type": "stream",
          "name": "stdout",
          "text": [
            "Euclidean SSE: 25401390250.840485, iters: 57\n",
            "Cosine SSE: 25433205664.27448, iters: 53\n",
            "Jaccard SSE: 25415669142.701466, iters: 45\n"
          ]
        }
      ]
    },
    {
      "cell_type": "markdown",
      "source": [
        "When SSE value increases"
      ],
      "metadata": {
        "id": "yFzRB83jtsKn"
      }
    },
    {
      "cell_type": "code",
      "source": [
        "class Kmeans:\n",
        "    def __init__(self, n_clust, max_itr=30, tol=1e-2, dist='euclidean'):\n",
        "        self.n_clust = n_clust\n",
        "        self.max_itr = max_itr\n",
        "        self.tol = tol\n",
        "        self.distance_metric = dist\n",
        "        self.centroids = None\n",
        "        self.iter = 0\n",
        "\n",
        "    def initialize_centroids(self, X):\n",
        "        indices = np.random.choice(X.shape[0], self.n_clust, replace=False)\n",
        "        return X[indices]\n",
        "\n",
        "    def calculate_distance(self, x1, x2):\n",
        "        if self.distance_metric == 'euclidean':\n",
        "            return np.linalg.norm(x1 - x2)\n",
        "        elif self.distance_metric == 'cosine':\n",
        "            return 1 - np.dot(x1, x2) / (np.linalg.norm(x1) * np.linalg.norm(x2))\n",
        "        elif self.distance_metric == 'jaccard':\n",
        "            intersection = np.sum(np.minimum(x1, x2))\n",
        "            union = np.sum(np.maximum(x1, x2))\n",
        "            return 1 - intersection / union\n",
        "        else:\n",
        "            raise ValueError(\"Invalid distance metric. Supported metrics: 'euclidean', 'cosine', 'jaccard'.\")\n",
        "\n",
        "    def assign_clusters(self, X):\n",
        "        distances = np.array([[self.calculate_distance(x, centroid) for centroid in self.centroids] for x in X])\n",
        "        return np.argmin(distances, axis=1)\n",
        "\n",
        "    def update_centroids(self, X, labels):\n",
        "        new_centroids = np.array([np.mean(X[labels == i], axis=0) for i in range(self.n_clust)])\n",
        "        return new_centroids\n",
        "\n",
        "    def fit(self, X):\n",
        "        self.centroids = self.initialize_centroids(X)\n",
        "        previous_sse = None\n",
        "\n",
        "        for self.iter in range(self.max_itr):\n",
        "            old_centroids = self.centroids.copy()\n",
        "\n",
        "            labels = self.assign_clusters(X)\n",
        "\n",
        "            self.centroids = self.update_centroids(X, labels)\n",
        "\n",
        "            current_sse = self.sse_calculate(X, labels)\n",
        "\n",
        "            if self.iter > 1 and current_sse > previous_sse:\n",
        "              break\n",
        "\n",
        "            previous_sse = current_sse\n",
        "\n",
        "            # Check for maximum iterations\n",
        "            if self.iter == self.max_itr - 1:\n",
        "                break\n",
        "\n",
        "        return labels\n",
        "\n",
        "    def sse_calculate(self, X, labels):\n",
        "        sse = 0\n",
        "        for i in range(self.n_clust):\n",
        "            cluster_points = X[labels == i]\n",
        "            centroid = self.centroids[i]\n",
        "            sse += np.sum(np.square(cluster_points - centroid))\n",
        "        return sse"
      ],
      "metadata": {
        "id": "X_ujigVstzEG"
      },
      "execution_count": 16,
      "outputs": []
    },
    {
      "cell_type": "code",
      "source": [
        "def sse_kmeans_3(dataset, distance):\n",
        "    kmeans = Kmeans(n_clust=k, dist=distance, max_itr=110)\n",
        "    labels = kmeans.fit(dataset)\n",
        "    return kmeans.sse_calculate(dataset, labels), labels, kmeans.iter"
      ],
      "metadata": {
        "id": "0XPbIGzrt8Nw"
      },
      "execution_count": 17,
      "outputs": []
    },
    {
      "cell_type": "code",
      "source": [
        "euclidean_sse, euc_labels, euc_itr = sse_kmeans_3(data, 'euclidean')\n",
        "cosine_sse, cos_labels, cos_itr = sse_kmeans_3(data, 'cosine')\n",
        "jaccard_sse, jac_labels, jac_itr = sse_kmeans_3(data, 'jaccard')\n",
        "\n",
        "print(f\"Euclidean SSE: {euclidean_sse}, iters: {euc_itr}\")\n",
        "print(f\"Cosine SSE: {cosine_sse}, iters: {cos_itr}\")\n",
        "print(f\"Jaccard SSE: {jaccard_sse}, iters: {jac_itr}\")"
      ],
      "metadata": {
        "colab": {
          "base_uri": "https://localhost:8080/"
        },
        "id": "sRx2vV6FuJge",
        "outputId": "b1b2b4a7-611a-4004-9e74-214f4f3ae8fc"
      },
      "execution_count": 18,
      "outputs": [
        {
          "output_type": "stream",
          "name": "stdout",
          "text": [
            "Euclidean SSE: 25409309387.159904, iters: 109\n",
            "Cosine SSE: 25414221511.898914, iters: 17\n",
            "Jaccard SSE: 25572421321.433544, iters: 11\n"
          ]
        }
      ]
    },
    {
      "cell_type": "markdown",
      "source": [],
      "metadata": {
        "id": "8Y1MvfNQu1B5"
      }
    },
    {
      "cell_type": "code",
      "source": [
        "class Kmeans:\n",
        "    def __init__(self, n_clust, max_itr=30, tol=1e-2, dist='euclidean'):\n",
        "        self.n_clust = n_clust\n",
        "        self.max_itr = max_itr\n",
        "        self.tol = tol\n",
        "        self.distance_metric = dist\n",
        "        self.centroids = None\n",
        "        self.iter = 0\n",
        "\n",
        "    def initialize_centroids(self, X):\n",
        "        indices = np.random.choice(X.shape[0], self.n_clust, replace=False)\n",
        "        return X[indices]\n",
        "\n",
        "    def calculate_distance(self, x1, x2):\n",
        "        if self.distance_metric == 'euclidean':\n",
        "            return np.linalg.norm(x1 - x2)\n",
        "        elif self.distance_metric == 'cosine':\n",
        "            return 1 - np.dot(x1, x2) / (np.linalg.norm(x1) * np.linalg.norm(x2))\n",
        "        elif self.distance_metric == 'jaccard':\n",
        "            intersection = np.sum(np.minimum(x1, x2))\n",
        "            union = np.sum(np.maximum(x1, x2))\n",
        "            return 1 - intersection / union\n",
        "        else:\n",
        "            raise ValueError(\"Invalid distance metric. Supported metrics: 'euclidean', 'cosine', 'jaccard'.\")\n",
        "\n",
        "    def assign_clusters(self, X):\n",
        "        distances = np.array([[self.calculate_distance(x, centroid) for centroid in self.centroids] for x in X])\n",
        "        return np.argmin(distances, axis=1)\n",
        "\n",
        "    def update_centroids(self, X, labels):\n",
        "        new_centroids = np.array([np.mean(X[labels == i], axis=0) for i in range(self.n_clust)])\n",
        "        return new_centroids\n",
        "\n",
        "    def fit(self, X):\n",
        "        self.centroids = self.initialize_centroids(X)\n",
        "        previous_sse = None\n",
        "\n",
        "        for self.iter in range(self.max_itr):\n",
        "            old_centroids = self.centroids.copy()\n",
        "\n",
        "            labels = self.assign_clusters(X)\n",
        "\n",
        "            self.centroids = self.update_centroids(X, labels)\n",
        "\n",
        "            current_sse = self.sse_calculate(X, labels)\n",
        "\n",
        "\n",
        "            previous_sse = current_sse\n",
        "\n",
        "            # Check for maximum iterations\n",
        "            if self.iter == self.max_itr - 1:\n",
        "                break\n",
        "\n",
        "        return labels\n",
        "\n",
        "    def sse_calculate(self, X, labels):\n",
        "        sse = 0\n",
        "        for i in range(self.n_clust):\n",
        "            cluster_points = X[labels == i]\n",
        "            centroid = self.centroids[i]\n",
        "            sse += np.sum(np.square(cluster_points - centroid))\n",
        "        return sse"
      ],
      "metadata": {
        "id": "OtLcXYVluwsZ"
      },
      "execution_count": 19,
      "outputs": []
    },
    {
      "cell_type": "code",
      "source": [
        "def sse_kmeans_3(dataset, distance):\n",
        "    kmeans = Kmeans(n_clust=k, dist=distance, max_itr=100)\n",
        "    labels = kmeans.fit(dataset)\n",
        "    return kmeans.sse_calculate(dataset, labels), labels, kmeans.iter"
      ],
      "metadata": {
        "id": "iTaMCmHdt_eb"
      },
      "execution_count": 20,
      "outputs": []
    },
    {
      "cell_type": "code",
      "source": [
        "euclidean_sse, euc_labels, euc_itr = sse_kmeans_3(data, 'euclidean')\n",
        "cosine_sse, cos_labels, cos_itr = sse_kmeans_3(data, 'cosine')\n",
        "jaccard_sse, jac_labels, jac_itr = sse_kmeans_3(data, 'jaccard')\n",
        "\n",
        "print(f\"Euclidean SSE: {euclidean_sse}, iters: {euc_itr}\")\n",
        "print(f\"Cosine SSE: {cosine_sse}, iters: {cos_itr}\")\n",
        "print(f\"Jaccard SSE: {jaccard_sse}, iters: {jac_itr}\")"
      ],
      "metadata": {
        "colab": {
          "base_uri": "https://localhost:8080/"
        },
        "id": "rtbqXk0zt99N",
        "outputId": "548c4617-66fb-45b6-89aa-6cbdc2d7bb49"
      },
      "execution_count": 21,
      "outputs": [
        {
          "output_type": "stream",
          "name": "stdout",
          "text": [
            "Euclidean SSE: 25387748746.14292, iters: 99\n",
            "Cosine SSE: 25553995633.766174, iters: 99\n",
            "Jaccard SSE: 25483735862.377304, iters: 99\n"
          ]
        }
      ]
    },
    {
      "cell_type": "markdown",
      "metadata": {
        "id": "ms2mt7xPjkbK"
      },
      "source": [
        "#Task 2"
      ]
    },
    {
      "cell_type": "code",
      "execution_count": 43,
      "metadata": {
        "colab": {
          "base_uri": "https://localhost:8080/"
        },
        "id": "3_TbXth1rTs5",
        "outputId": "776a32d1-7c25-4cb7-b97d-deb99e49831c"
      },
      "outputs": [
        {
          "output_type": "stream",
          "name": "stdout",
          "text": [
            "Collecting surprise\n",
            "  Using cached surprise-0.1-py2.py3-none-any.whl.metadata (327 bytes)\n",
            "Collecting scikit-surprise (from surprise)\n",
            "  Using cached scikit_surprise-1.1.4.tar.gz (154 kB)\n",
            "  Installing build dependencies ... \u001b[?25l\u001b[?25hdone\n",
            "  Getting requirements to build wheel ... \u001b[?25l\u001b[?25hdone\n",
            "  Preparing metadata (pyproject.toml) ... \u001b[?25l\u001b[?25hdone\n",
            "Requirement already satisfied: joblib>=1.2.0 in /usr/local/lib/python3.10/dist-packages (from scikit-surprise->surprise) (1.4.2)\n",
            "Requirement already satisfied: numpy>=1.19.5 in /usr/local/lib/python3.10/dist-packages (from scikit-surprise->surprise) (1.26.4)\n",
            "Requirement already satisfied: scipy>=1.6.0 in /usr/local/lib/python3.10/dist-packages (from scikit-surprise->surprise) (1.13.1)\n",
            "Downloading surprise-0.1-py2.py3-none-any.whl (1.8 kB)\n",
            "Building wheels for collected packages: scikit-surprise\n",
            "  Building wheel for scikit-surprise (pyproject.toml) ... \u001b[?25l\u001b[?25hdone\n",
            "  Created wheel for scikit-surprise: filename=scikit_surprise-1.1.4-cp310-cp310-linux_x86_64.whl size=2357282 sha256=cecb8ff4bde109a8273a234ca888fc9013a7c50d0fb78e3d4ab16148bfa1bf18\n",
            "  Stored in directory: /root/.cache/pip/wheels/4b/3f/df/6acbf0a40397d9bf3ff97f582cc22fb9ce66adde75bc71fd54\n",
            "Successfully built scikit-surprise\n",
            "Installing collected packages: scikit-surprise, surprise\n",
            "Successfully installed scikit-surprise-1.1.4 surprise-0.1\n"
          ]
        }
      ],
      "source": [
        "!pip install surprise"
      ]
    },
    {
      "cell_type": "code",
      "execution_count": 49,
      "metadata": {
        "id": "A6j5r6_7rMYl"
      },
      "outputs": [],
      "source": [
        "import pandas as pd\n",
        "from surprise import SVD, SVDpp, NMF, SlopeOne, CoClustering, KNNBasic, KNNWithMeans, KNNBaseline, KNNWithZScore, BaselineOnly, NormalPredictor\n",
        "from surprise import Dataset, accuracy, Reader\n",
        "from surprise.model_selection import cross_validate, train_test_split\n",
        "import matplotlib.pyplot as plt"
      ]
    },
    {
      "cell_type": "code",
      "execution_count": 46,
      "metadata": {
        "id": "p937pFLBjmxe"
      },
      "outputs": [],
      "source": [
        "df_r = pd.read_csv(\"/content/ratings_small.csv\")"
      ]
    },
    {
      "cell_type": "code",
      "execution_count": 47,
      "metadata": {
        "id": "COFAiUi5roEa"
      },
      "outputs": [],
      "source": [
        "read = Reader(rating_scale=(1, 5))\n",
        "data = Dataset.load_from_df(df_r[['userId', 'movieId', 'rating']], reader=read)"
      ]
    },
    {
      "cell_type": "code",
      "execution_count": 48,
      "metadata": {
        "colab": {
          "base_uri": "https://localhost:8080/"
        },
        "id": "jzb5ODtVsqNQ",
        "outputId": "2284a860-d1b6-4778-9eb3-7eab0173d3ba"
      },
      "outputs": [
        {
          "output_type": "stream",
          "name": "stdout",
          "text": [
            "PMF RMSE:  0.8963115459141037\n",
            "PMF MAE:  0.6902509212656123\n",
            "Computing the msd similarity matrix...\n",
            "Done computing similarity matrix.\n",
            "Computing the msd similarity matrix...\n",
            "Done computing similarity matrix.\n",
            "Computing the msd similarity matrix...\n",
            "Done computing similarity matrix.\n",
            "Computing the msd similarity matrix...\n",
            "Done computing similarity matrix.\n",
            "Computing the msd similarity matrix...\n",
            "Done computing similarity matrix.\n",
            "User based CF RMSE:  0.9671778559850871\n",
            "User based CF MAE:  0.743243161900822\n",
            "Computing the msd similarity matrix...\n",
            "Done computing similarity matrix.\n",
            "Computing the msd similarity matrix...\n",
            "Done computing similarity matrix.\n",
            "Computing the msd similarity matrix...\n",
            "Done computing similarity matrix.\n",
            "Computing the msd similarity matrix...\n",
            "Done computing similarity matrix.\n",
            "Computing the msd similarity matrix...\n",
            "Done computing similarity matrix.\n",
            "Item based CF RMSE:  0.9344414733323656\n",
            "Item based CF MAE:  0.7207041457878335\n"
          ]
        }
      ],
      "source": [
        "# PMF\n",
        "pmf = SVD()\n",
        "pmf_results = cross_validate(pmf, data, measures=['RMSE', 'MAE'], cv=5, verbose=False)\n",
        "pmf_rmse = print('PMF RMSE: ', pmf_results['test_rmse'].mean())\n",
        "pmf_mae = print('PMF MAE: ', pmf_results['test_mae'].mean())\n",
        "\n",
        "# User-based CF\n",
        "u_cf = KNNBasic(sim_options={'user_based': True})\n",
        "u_cf_results = cross_validate(u_cf, data, measures=['RMSE', 'MAE'], cv=5, verbose=False)\n",
        "u_cf_rmse = print('User based CF RMSE: ', u_cf_results['test_rmse'].mean())\n",
        "u_cf_mae = print('User based CF MAE: ', u_cf_results['test_mae'].mean())\n",
        "\n",
        "# Item-based CF\n",
        "i_cf = KNNBasic(sim_options={'user_based': False})\n",
        "i_cf_results = cross_validate(i_cf, data, measures=['RMSE', 'MAE'], cv=5, verbose=False)\n",
        "i_cf_rmse = print('Item based CF RMSE: ', i_cf_results['test_rmse'].mean())\n",
        "i_cf_mae = print('Item based CF MAE: ', i_cf_results['test_mae'].mean())"
      ]
    },
    {
      "cell_type": "code",
      "source": [
        "# User-based CF\n",
        "u_cosine = KNNBasic(sim_options={'name': 'cosine', 'user_based': True})\n",
        "u_msd = KNNBasic(sim_options={'name': 'msd', 'user_based': True})\n",
        "u_pearson = KNNBasic(sim_options={'name': 'pearson', 'user_based': True})\n",
        "\n",
        "# Item-based CF\n",
        "i_cosine = KNNBasic(sim_options={'name': 'cosine', 'user_based': False})\n",
        "i_msd = KNNBasic(sim_options={'name': 'msd', 'user_based': False})\n",
        "i_pearson = KNNBasic(sim_options={'name': 'pearson', 'user_based': False})"
      ],
      "metadata": {
        "id": "n-Q-OAHT_l15"
      },
      "execution_count": 50,
      "outputs": []
    },
    {
      "cell_type": "code",
      "source": [
        "# Cross validate and plot results\n",
        "metrics = ['cosine', 'msd', 'pearson']\n",
        "u_rmses = []\n",
        "u_maes = []\n",
        "i_rmses = []\n",
        "i_maes = []"
      ],
      "metadata": {
        "id": "JgThbMC0_wMS"
      },
      "execution_count": 51,
      "outputs": []
    },
    {
      "cell_type": "code",
      "execution_count": 53,
      "metadata": {
        "colab": {
          "base_uri": "https://localhost:8080/"
        },
        "id": "QURwP8f8stFg",
        "outputId": "199a6624-57aa-48ea-ffe5-50ad5c1c43cf"
      },
      "outputs": [
        {
          "output_type": "stream",
          "name": "stdout",
          "text": [
            "Computing the cosine similarity matrix...\n",
            "Done computing similarity matrix.\n",
            "Computing the cosine similarity matrix...\n",
            "Done computing similarity matrix.\n",
            "Computing the cosine similarity matrix...\n",
            "Done computing similarity matrix.\n",
            "Computing the cosine similarity matrix...\n",
            "Done computing similarity matrix.\n",
            "Computing the cosine similarity matrix...\n",
            "Done computing similarity matrix.\n",
            "cosine RMSE: 0.992064437944762\n",
            "cosine MAE: 0.7666664704431734\n",
            "Computing the msd similarity matrix...\n",
            "Done computing similarity matrix.\n",
            "Computing the msd similarity matrix...\n",
            "Done computing similarity matrix.\n",
            "Computing the msd similarity matrix...\n",
            "Done computing similarity matrix.\n",
            "Computing the msd similarity matrix...\n",
            "Done computing similarity matrix.\n",
            "Computing the msd similarity matrix...\n",
            "Done computing similarity matrix.\n",
            "msd RMSE: 0.9657589591641657\n",
            "msd MAE: 0.7423911415509785\n",
            "Computing the pearson similarity matrix...\n",
            "Done computing similarity matrix.\n",
            "Computing the pearson similarity matrix...\n",
            "Done computing similarity matrix.\n",
            "Computing the pearson similarity matrix...\n",
            "Done computing similarity matrix.\n",
            "Computing the pearson similarity matrix...\n",
            "Done computing similarity matrix.\n",
            "Computing the pearson similarity matrix...\n",
            "Done computing similarity matrix.\n",
            "pearson RMSE: 0.9991310738996205\n",
            "pearson MAE: 0.773175938589464\n",
            "Computing the cosine similarity matrix...\n",
            "Done computing similarity matrix.\n",
            "Computing the cosine similarity matrix...\n",
            "Done computing similarity matrix.\n",
            "Computing the cosine similarity matrix...\n",
            "Done computing similarity matrix.\n",
            "Computing the cosine similarity matrix...\n",
            "Done computing similarity matrix.\n",
            "Computing the cosine similarity matrix...\n",
            "Done computing similarity matrix.\n",
            "cosine RMSE: 0.9946956791735652\n",
            "cosine MAE: 0.7741809725404132\n",
            "Computing the msd similarity matrix...\n",
            "Done computing similarity matrix.\n",
            "Computing the msd similarity matrix...\n",
            "Done computing similarity matrix.\n",
            "Computing the msd similarity matrix...\n",
            "Done computing similarity matrix.\n",
            "Computing the msd similarity matrix...\n",
            "Done computing similarity matrix.\n",
            "Computing the msd similarity matrix...\n",
            "Done computing similarity matrix.\n",
            "msd RMSE: 0.9343696888112957\n",
            "msd MAE: 0.7207064245856492\n",
            "Computing the pearson similarity matrix...\n",
            "Done computing similarity matrix.\n",
            "Computing the pearson similarity matrix...\n",
            "Done computing similarity matrix.\n",
            "Computing the pearson similarity matrix...\n",
            "Done computing similarity matrix.\n",
            "Computing the pearson similarity matrix...\n",
            "Done computing similarity matrix.\n",
            "Computing the pearson similarity matrix...\n",
            "Done computing similarity matrix.\n",
            "pearson RMSE: 0.9905999748856787\n",
            "pearson MAE: 0.7690503435370111\n"
          ]
        }
      ],
      "source": [
        "for metric in metrics:\n",
        "    u_run = cross_validate(eval(f'u_{metric}'), data, measures=['RMSE', 'MAE'], cv=5)\n",
        "    u_rmse = u_run['test_rmse'].mean()\n",
        "    u_mae =  u_run['test_mae'].mean()\n",
        "    u_rmses.append(u_rmse)\n",
        "    u_maes.append(u_mae)\n",
        "    print(f'{metric} RMSE: {u_rmse}')\n",
        "    print(f'{metric} MAE: {u_mae}')\n",
        "\n",
        "for metric in metrics:\n",
        "    i_run = cross_validate(eval(f'i_{metric}'), data, measures=['RMSE', 'MAE'], cv=5)\n",
        "    i_rmse = i_run['test_rmse'].mean()\n",
        "    i_mae =  i_run['test_mae'].mean()\n",
        "    i_rmses.append(i_rmse)\n",
        "    i_maes.append(i_mae)\n",
        "    print(f'{metric} RMSE: {i_rmse}')\n",
        "    print(f'{metric} MAE: {i_mae}')"
      ]
    },
    {
      "cell_type": "code",
      "source": [
        "plt.plot(metrics, u_rmses, label='User CF')\n",
        "plt.plot(metrics, i_rmses, label='Item CF')\n",
        "plt.title('Impact of Similarity Metric on RMSE')\n",
        "plt.xlabel('Similarity Metric')\n",
        "plt.ylabel('RMSE')\n",
        "plt.legend()\n",
        "plt.show()"
      ],
      "metadata": {
        "colab": {
          "base_uri": "https://localhost:8080/",
          "height": 472
        },
        "id": "JQeGrckZ_8aH",
        "outputId": "19458e97-b4de-40c4-ce88-d494b54848e5"
      },
      "execution_count": 54,
      "outputs": [
        {
          "output_type": "display_data",
          "data": {
            "text/plain": [
              "<Figure size 640x480 with 1 Axes>"
            ],
            "image/png": "[encoded data removed]"
          },
          "metadata": {}
        }
      ]
    },
    {
      "cell_type": "code",
      "source": [
        "plt.plot(metrics, u_maes, label='User CF')\n",
        "plt.plot(metrics, i_maes, label='Item CF')\n",
        "plt.title('Impact of Similarity Metric on MAE')\n",
        "plt.xlabel('Similarity Metric')\n",
        "plt.ylabel('MAE')\n",
        "plt.legend()\n",
        "plt.show()"
      ],
      "metadata": {
        "colab": {
          "base_uri": "https://localhost:8080/",
          "height": 472
        },
        "id": "BdBEhjfD__Tn",
        "outputId": "ef3844f8-c1a9-47b3-81a5-eb2fd11b0037"
      },
      "execution_count": 55,
      "outputs": [
        {
          "output_type": "display_data",
          "data": {
            "text/plain": [
              "<Figure size 640x480 with 1 Axes>"
            ],
            "image/png": "[encoded data removed]"
          },
          "metadata": {}
        }
      ]
    },
    {
      "cell_type": "code",
      "execution_count": 56,
      "metadata": {
        "colab": {
          "base_uri": "https://localhost:8080/"
        },
        "id": "bUUEtsxhtWAj",
        "outputId": "4b7a99a2-dc2d-41f6-ffc2-6316879cdf8b"
      },
      "outputs": [
        {
          "output_type": "stream",
          "name": "stdout",
          "text": [
            "1\n",
            "Computing the msd similarity matrix...\n",
            "Done computing similarity matrix.\n",
            "Computing the msd similarity matrix...\n",
            "Done computing similarity matrix.\n",
            "Computing the msd similarity matrix...\n",
            "Done computing similarity matrix.\n",
            "Computing the msd similarity matrix...\n",
            "Done computing similarity matrix.\n",
            "Computing the msd similarity matrix...\n",
            "Done computing similarity matrix.\n",
            "Computing the msd similarity matrix...\n",
            "Done computing similarity matrix.\n",
            "Computing the msd similarity matrix...\n",
            "Done computing similarity matrix.\n",
            "Computing the msd similarity matrix...\n",
            "Done computing similarity matrix.\n",
            "Computing the msd similarity matrix...\n",
            "Done computing similarity matrix.\n",
            "Computing the msd similarity matrix...\n",
            "Done computing similarity matrix.\n",
            "2\n",
            "Computing the msd similarity matrix...\n",
            "Done computing similarity matrix.\n",
            "Computing the msd similarity matrix...\n",
            "Done computing similarity matrix.\n",
            "Computing the msd similarity matrix...\n",
            "Done computing similarity matrix.\n",
            "Computing the msd similarity matrix...\n",
            "Done computing similarity matrix.\n",
            "Computing the msd similarity matrix...\n",
            "Done computing similarity matrix.\n",
            "Computing the msd similarity matrix...\n",
            "Done computing similarity matrix.\n",
            "Computing the msd similarity matrix...\n",
            "Done computing similarity matrix.\n",
            "Computing the msd similarity matrix...\n",
            "Done computing similarity matrix.\n",
            "Computing the msd similarity matrix...\n",
            "Done computing similarity matrix.\n",
            "Computing the msd similarity matrix...\n",
            "Done computing similarity matrix.\n",
            "3\n",
            "Computing the msd similarity matrix...\n",
            "Done computing similarity matrix.\n",
            "Computing the msd similarity matrix...\n",
            "Done computing similarity matrix.\n",
            "Computing the msd similarity matrix...\n",
            "Done computing similarity matrix.\n",
            "Computing the msd similarity matrix...\n",
            "Done computing similarity matrix.\n",
            "Computing the msd similarity matrix...\n",
            "Done computing similarity matrix.\n",
            "Computing the msd similarity matrix...\n",
            "Done computing similarity matrix.\n",
            "Computing the msd similarity matrix...\n",
            "Done computing similarity matrix.\n",
            "Computing the msd similarity matrix...\n",
            "Done computing similarity matrix.\n",
            "Computing the msd similarity matrix...\n",
            "Done computing similarity matrix.\n",
            "Computing the msd similarity matrix...\n",
            "Done computing similarity matrix.\n",
            "4\n",
            "Computing the msd similarity matrix...\n",
            "Done computing similarity matrix.\n",
            "Computing the msd similarity matrix...\n",
            "Done computing similarity matrix.\n",
            "Computing the msd similarity matrix...\n",
            "Done computing similarity matrix.\n",
            "Computing the msd similarity matrix...\n",
            "Done computing similarity matrix.\n",
            "Computing the msd similarity matrix...\n",
            "Done computing similarity matrix.\n",
            "Computing the msd similarity matrix...\n",
            "Done computing similarity matrix.\n",
            "Computing the msd similarity matrix...\n",
            "Done computing similarity matrix.\n",
            "Computing the msd similarity matrix...\n",
            "Done computing similarity matrix.\n",
            "Computing the msd similarity matrix...\n",
            "Done computing similarity matrix.\n",
            "Computing the msd similarity matrix...\n",
            "Done computing similarity matrix.\n",
            "5\n",
            "Computing the msd similarity matrix...\n",
            "Done computing similarity matrix.\n",
            "Computing the msd similarity matrix...\n",
            "Done computing similarity matrix.\n",
            "Computing the msd similarity matrix...\n",
            "Done computing similarity matrix.\n",
            "Computing the msd similarity matrix...\n",
            "Done computing similarity matrix.\n",
            "Computing the msd similarity matrix...\n",
            "Done computing similarity matrix.\n",
            "Computing the msd similarity matrix...\n",
            "Done computing similarity matrix.\n",
            "Computing the msd similarity matrix...\n",
            "Done computing similarity matrix.\n",
            "Computing the msd similarity matrix...\n",
            "Done computing similarity matrix.\n",
            "Computing the msd similarity matrix...\n",
            "Done computing similarity matrix.\n",
            "Computing the msd similarity matrix...\n",
            "Done computing similarity matrix.\n",
            "6\n",
            "Computing the msd similarity matrix...\n",
            "Done computing similarity matrix.\n",
            "Computing the msd similarity matrix...\n",
            "Done computing similarity matrix.\n",
            "Computing the msd similarity matrix...\n",
            "Done computing similarity matrix.\n",
            "Computing the msd similarity matrix...\n",
            "Done computing similarity matrix.\n",
            "Computing the msd similarity matrix...\n",
            "Done computing similarity matrix.\n",
            "Computing the msd similarity matrix...\n",
            "Done computing similarity matrix.\n",
            "Computing the msd similarity matrix...\n",
            "Done computing similarity matrix.\n",
            "Computing the msd similarity matrix...\n",
            "Done computing similarity matrix.\n",
            "Computing the msd similarity matrix...\n",
            "Done computing similarity matrix.\n",
            "Computing the msd similarity matrix...\n",
            "Done computing similarity matrix.\n",
            "7\n",
            "Computing the msd similarity matrix...\n",
            "Done computing similarity matrix.\n",
            "Computing the msd similarity matrix...\n",
            "Done computing similarity matrix.\n",
            "Computing the msd similarity matrix...\n",
            "Done computing similarity matrix.\n",
            "Computing the msd similarity matrix...\n",
            "Done computing similarity matrix.\n",
            "Computing the msd similarity matrix...\n",
            "Done computing similarity matrix.\n",
            "Computing the msd similarity matrix...\n",
            "Done computing similarity matrix.\n",
            "Computing the msd similarity matrix...\n",
            "Done computing similarity matrix.\n",
            "Computing the msd similarity matrix...\n",
            "Done computing similarity matrix.\n",
            "Computing the msd similarity matrix...\n",
            "Done computing similarity matrix.\n",
            "Computing the msd similarity matrix...\n",
            "Done computing similarity matrix.\n",
            "8\n",
            "Computing the msd similarity matrix...\n",
            "Done computing similarity matrix.\n",
            "Computing the msd similarity matrix...\n",
            "Done computing similarity matrix.\n",
            "Computing the msd similarity matrix...\n",
            "Done computing similarity matrix.\n",
            "Computing the msd similarity matrix...\n",
            "Done computing similarity matrix.\n",
            "Computing the msd similarity matrix...\n",
            "Done computing similarity matrix.\n",
            "Computing the msd similarity matrix...\n",
            "Done computing similarity matrix.\n",
            "Computing the msd similarity matrix...\n",
            "Done computing similarity matrix.\n",
            "Computing the msd similarity matrix...\n",
            "Done computing similarity matrix.\n",
            "Computing the msd similarity matrix...\n",
            "Done computing similarity matrix.\n",
            "Computing the msd similarity matrix...\n",
            "Done computing similarity matrix.\n",
            "9\n",
            "Computing the msd similarity matrix...\n",
            "Done computing similarity matrix.\n",
            "Computing the msd similarity matrix...\n",
            "Done computing similarity matrix.\n",
            "Computing the msd similarity matrix...\n",
            "Done computing similarity matrix.\n",
            "Computing the msd similarity matrix...\n",
            "Done computing similarity matrix.\n",
            "Computing the msd similarity matrix...\n",
            "Done computing similarity matrix.\n",
            "Computing the msd similarity matrix...\n",
            "Done computing similarity matrix.\n",
            "Computing the msd similarity matrix...\n",
            "Done computing similarity matrix.\n",
            "Computing the msd similarity matrix...\n",
            "Done computing similarity matrix.\n",
            "Computing the msd similarity matrix...\n",
            "Done computing similarity matrix.\n",
            "Computing the msd similarity matrix...\n",
            "Done computing similarity matrix.\n",
            "10\n",
            "Computing the msd similarity matrix...\n",
            "Done computing similarity matrix.\n",
            "Computing the msd similarity matrix...\n",
            "Done computing similarity matrix.\n",
            "Computing the msd similarity matrix...\n",
            "Done computing similarity matrix.\n",
            "Computing the msd similarity matrix...\n",
            "Done computing similarity matrix.\n",
            "Computing the msd similarity matrix...\n",
            "Done computing similarity matrix.\n",
            "Computing the msd similarity matrix...\n",
            "Done computing similarity matrix.\n",
            "Computing the msd similarity matrix...\n",
            "Done computing similarity matrix.\n",
            "Computing the msd similarity matrix...\n",
            "Done computing similarity matrix.\n",
            "Computing the msd similarity matrix...\n",
            "Done computing similarity matrix.\n",
            "Computing the msd similarity matrix...\n",
            "Done computing similarity matrix.\n",
            "11\n",
            "Computing the msd similarity matrix...\n",
            "Done computing similarity matrix.\n",
            "Computing the msd similarity matrix...\n",
            "Done computing similarity matrix.\n",
            "Computing the msd similarity matrix...\n",
            "Done computing similarity matrix.\n",
            "Computing the msd similarity matrix...\n",
            "Done computing similarity matrix.\n",
            "Computing the msd similarity matrix...\n",
            "Done computing similarity matrix.\n",
            "Computing the msd similarity matrix...\n",
            "Done computing similarity matrix.\n",
            "Computing the msd similarity matrix...\n",
            "Done computing similarity matrix.\n",
            "Computing the msd similarity matrix...\n",
            "Done computing similarity matrix.\n",
            "Computing the msd similarity matrix...\n",
            "Done computing similarity matrix.\n",
            "Computing the msd similarity matrix...\n",
            "Done computing similarity matrix.\n",
            "12\n",
            "Computing the msd similarity matrix...\n",
            "Done computing similarity matrix.\n",
            "Computing the msd similarity matrix...\n",
            "Done computing similarity matrix.\n",
            "Computing the msd similarity matrix...\n",
            "Done computing similarity matrix.\n",
            "Computing the msd similarity matrix...\n",
            "Done computing similarity matrix.\n",
            "Computing the msd similarity matrix...\n",
            "Done computing similarity matrix.\n",
            "Computing the msd similarity matrix...\n",
            "Done computing similarity matrix.\n",
            "Computing the msd similarity matrix...\n",
            "Done computing similarity matrix.\n",
            "Computing the msd similarity matrix...\n",
            "Done computing similarity matrix.\n",
            "Computing the msd similarity matrix...\n",
            "Done computing similarity matrix.\n",
            "Computing the msd similarity matrix...\n",
            "Done computing similarity matrix.\n",
            "13\n",
            "Computing the msd similarity matrix...\n",
            "Done computing similarity matrix.\n",
            "Computing the msd similarity matrix...\n",
            "Done computing similarity matrix.\n",
            "Computing the msd similarity matrix...\n",
            "Done computing similarity matrix.\n",
            "Computing the msd similarity matrix...\n",
            "Done computing similarity matrix.\n",
            "Computing the msd similarity matrix...\n",
            "Done computing similarity matrix.\n",
            "Computing the msd similarity matrix...\n",
            "Done computing similarity matrix.\n",
            "Computing the msd similarity matrix...\n",
            "Done computing similarity matrix.\n",
            "Computing the msd similarity matrix...\n",
            "Done computing similarity matrix.\n",
            "Computing the msd similarity matrix...\n",
            "Done computing similarity matrix.\n",
            "Computing the msd similarity matrix...\n",
            "Done computing similarity matrix.\n",
            "14\n",
            "Computing the msd similarity matrix...\n",
            "Done computing similarity matrix.\n",
            "Computing the msd similarity matrix...\n",
            "Done computing similarity matrix.\n",
            "Computing the msd similarity matrix...\n",
            "Done computing similarity matrix.\n",
            "Computing the msd similarity matrix...\n",
            "Done computing similarity matrix.\n",
            "Computing the msd similarity matrix...\n",
            "Done computing similarity matrix.\n",
            "Computing the msd similarity matrix...\n",
            "Done computing similarity matrix.\n",
            "Computing the msd similarity matrix...\n",
            "Done computing similarity matrix.\n",
            "Computing the msd similarity matrix...\n",
            "Done computing similarity matrix.\n",
            "Computing the msd similarity matrix...\n",
            "Done computing similarity matrix.\n",
            "Computing the msd similarity matrix...\n",
            "Done computing similarity matrix.\n",
            "15\n",
            "Computing the msd similarity matrix...\n",
            "Done computing similarity matrix.\n",
            "Computing the msd similarity matrix...\n",
            "Done computing similarity matrix.\n",
            "Computing the msd similarity matrix...\n",
            "Done computing similarity matrix.\n",
            "Computing the msd similarity matrix...\n",
            "Done computing similarity matrix.\n",
            "Computing the msd similarity matrix...\n",
            "Done computing similarity matrix.\n",
            "Computing the msd similarity matrix...\n",
            "Done computing similarity matrix.\n",
            "Computing the msd similarity matrix...\n",
            "Done computing similarity matrix.\n",
            "Computing the msd similarity matrix...\n",
            "Done computing similarity matrix.\n",
            "Computing the msd similarity matrix...\n",
            "Done computing similarity matrix.\n",
            "Computing the msd similarity matrix...\n",
            "Done computing similarity matrix.\n",
            "16\n",
            "Computing the msd similarity matrix...\n",
            "Done computing similarity matrix.\n",
            "Computing the msd similarity matrix...\n",
            "Done computing similarity matrix.\n",
            "Computing the msd similarity matrix...\n",
            "Done computing similarity matrix.\n",
            "Computing the msd similarity matrix...\n",
            "Done computing similarity matrix.\n",
            "Computing the msd similarity matrix...\n",
            "Done computing similarity matrix.\n",
            "Computing the msd similarity matrix...\n",
            "Done computing similarity matrix.\n",
            "Computing the msd similarity matrix...\n",
            "Done computing similarity matrix.\n",
            "Computing the msd similarity matrix...\n",
            "Done computing similarity matrix.\n",
            "Computing the msd similarity matrix...\n",
            "Done computing similarity matrix.\n",
            "Computing the msd similarity matrix...\n",
            "Done computing similarity matrix.\n",
            "17\n",
            "Computing the msd similarity matrix...\n",
            "Done computing similarity matrix.\n",
            "Computing the msd similarity matrix...\n",
            "Done computing similarity matrix.\n",
            "Computing the msd similarity matrix...\n",
            "Done computing similarity matrix.\n",
            "Computing the msd similarity matrix...\n",
            "Done computing similarity matrix.\n",
            "Computing the msd similarity matrix...\n",
            "Done computing similarity matrix.\n",
            "Computing the msd similarity matrix...\n",
            "Done computing similarity matrix.\n",
            "Computing the msd similarity matrix...\n",
            "Done computing similarity matrix.\n",
            "Computing the msd similarity matrix...\n",
            "Done computing similarity matrix.\n",
            "Computing the msd similarity matrix...\n",
            "Done computing similarity matrix.\n",
            "Computing the msd similarity matrix...\n",
            "Done computing similarity matrix.\n",
            "18\n",
            "Computing the msd similarity matrix...\n",
            "Done computing similarity matrix.\n",
            "Computing the msd similarity matrix...\n",
            "Done computing similarity matrix.\n",
            "Computing the msd similarity matrix...\n",
            "Done computing similarity matrix.\n",
            "Computing the msd similarity matrix...\n",
            "Done computing similarity matrix.\n",
            "Computing the msd similarity matrix...\n",
            "Done computing similarity matrix.\n",
            "Computing the msd similarity matrix...\n",
            "Done computing similarity matrix.\n",
            "Computing the msd similarity matrix...\n",
            "Done computing similarity matrix.\n",
            "Computing the msd similarity matrix...\n",
            "Done computing similarity matrix.\n",
            "Computing the msd similarity matrix...\n",
            "Done computing similarity matrix.\n",
            "Computing the msd similarity matrix...\n",
            "Done computing similarity matrix.\n",
            "19\n",
            "Computing the msd similarity matrix...\n",
            "Done computing similarity matrix.\n",
            "Computing the msd similarity matrix...\n",
            "Done computing similarity matrix.\n",
            "Computing the msd similarity matrix...\n",
            "Done computing similarity matrix.\n",
            "Computing the msd similarity matrix...\n",
            "Done computing similarity matrix.\n",
            "Computing the msd similarity matrix...\n",
            "Done computing similarity matrix.\n",
            "Computing the msd similarity matrix...\n",
            "Done computing similarity matrix.\n",
            "Computing the msd similarity matrix...\n",
            "Done computing similarity matrix.\n",
            "Computing the msd similarity matrix...\n",
            "Done computing similarity matrix.\n",
            "Computing the msd similarity matrix...\n",
            "Done computing similarity matrix.\n",
            "Computing the msd similarity matrix...\n",
            "Done computing similarity matrix.\n",
            "20\n",
            "Computing the msd similarity matrix...\n",
            "Done computing similarity matrix.\n",
            "Computing the msd similarity matrix...\n",
            "Done computing similarity matrix.\n",
            "Computing the msd similarity matrix...\n",
            "Done computing similarity matrix.\n",
            "Computing the msd similarity matrix...\n",
            "Done computing similarity matrix.\n",
            "Computing the msd similarity matrix...\n",
            "Done computing similarity matrix.\n",
            "Computing the msd similarity matrix...\n",
            "Done computing similarity matrix.\n",
            "Computing the msd similarity matrix...\n",
            "Done computing similarity matrix.\n",
            "Computing the msd similarity matrix...\n",
            "Done computing similarity matrix.\n",
            "Computing the msd similarity matrix...\n",
            "Done computing similarity matrix.\n",
            "Computing the msd similarity matrix...\n",
            "Done computing similarity matrix.\n",
            "21\n",
            "Computing the msd similarity matrix...\n",
            "Done computing similarity matrix.\n",
            "Computing the msd similarity matrix...\n",
            "Done computing similarity matrix.\n",
            "Computing the msd similarity matrix...\n",
            "Done computing similarity matrix.\n",
            "Computing the msd similarity matrix...\n",
            "Done computing similarity matrix.\n",
            "Computing the msd similarity matrix...\n",
            "Done computing similarity matrix.\n",
            "Computing the msd similarity matrix...\n",
            "Done computing similarity matrix.\n",
            "Computing the msd similarity matrix...\n",
            "Done computing similarity matrix.\n",
            "Computing the msd similarity matrix...\n",
            "Done computing similarity matrix.\n",
            "Computing the msd similarity matrix...\n",
            "Done computing similarity matrix.\n",
            "Computing the msd similarity matrix...\n",
            "Done computing similarity matrix.\n",
            "22\n",
            "Computing the msd similarity matrix...\n",
            "Done computing similarity matrix.\n",
            "Computing the msd similarity matrix...\n",
            "Done computing similarity matrix.\n",
            "Computing the msd similarity matrix...\n",
            "Done computing similarity matrix.\n",
            "Computing the msd similarity matrix...\n",
            "Done computing similarity matrix.\n",
            "Computing the msd similarity matrix...\n",
            "Done computing similarity matrix.\n",
            "Computing the msd similarity matrix...\n",
            "Done computing similarity matrix.\n",
            "Computing the msd similarity matrix...\n",
            "Done computing similarity matrix.\n",
            "Computing the msd similarity matrix...\n",
            "Done computing similarity matrix.\n",
            "Computing the msd similarity matrix...\n",
            "Done computing similarity matrix.\n",
            "Computing the msd similarity matrix...\n",
            "Done computing similarity matrix.\n",
            "23\n",
            "Computing the msd similarity matrix...\n",
            "Done computing similarity matrix.\n",
            "Computing the msd similarity matrix...\n",
            "Done computing similarity matrix.\n",
            "Computing the msd similarity matrix...\n",
            "Done computing similarity matrix.\n",
            "Computing the msd similarity matrix...\n",
            "Done computing similarity matrix.\n",
            "Computing the msd similarity matrix...\n",
            "Done computing similarity matrix.\n",
            "Computing the msd similarity matrix...\n",
            "Done computing similarity matrix.\n",
            "Computing the msd similarity matrix...\n",
            "Done computing similarity matrix.\n",
            "Computing the msd similarity matrix...\n",
            "Done computing similarity matrix.\n",
            "Computing the msd similarity matrix...\n",
            "Done computing similarity matrix.\n",
            "Computing the msd similarity matrix...\n",
            "Done computing similarity matrix.\n",
            "24\n",
            "Computing the msd similarity matrix...\n",
            "Done computing similarity matrix.\n",
            "Computing the msd similarity matrix...\n",
            "Done computing similarity matrix.\n",
            "Computing the msd similarity matrix...\n",
            "Done computing similarity matrix.\n",
            "Computing the msd similarity matrix...\n",
            "Done computing similarity matrix.\n",
            "Computing the msd similarity matrix...\n",
            "Done computing similarity matrix.\n",
            "Computing the msd similarity matrix...\n",
            "Done computing similarity matrix.\n",
            "Computing the msd similarity matrix...\n",
            "Done computing similarity matrix.\n",
            "Computing the msd similarity matrix...\n",
            "Done computing similarity matrix.\n",
            "Computing the msd similarity matrix...\n",
            "Done computing similarity matrix.\n",
            "Computing the msd similarity matrix...\n",
            "Done computing similarity matrix.\n",
            "25\n",
            "Computing the msd similarity matrix...\n",
            "Done computing similarity matrix.\n",
            "Computing the msd similarity matrix...\n",
            "Done computing similarity matrix.\n",
            "Computing the msd similarity matrix...\n",
            "Done computing similarity matrix.\n",
            "Computing the msd similarity matrix...\n",
            "Done computing similarity matrix.\n",
            "Computing the msd similarity matrix...\n",
            "Done computing similarity matrix.\n",
            "Computing the msd similarity matrix...\n",
            "Done computing similarity matrix.\n",
            "Computing the msd similarity matrix...\n",
            "Done computing similarity matrix.\n",
            "Computing the msd similarity matrix...\n",
            "Done computing similarity matrix.\n",
            "Computing the msd similarity matrix...\n",
            "Done computing similarity matrix.\n",
            "Computing the msd similarity matrix...\n",
            "Done computing similarity matrix.\n",
            "26\n",
            "Computing the msd similarity matrix...\n",
            "Done computing similarity matrix.\n",
            "Computing the msd similarity matrix...\n",
            "Done computing similarity matrix.\n",
            "Computing the msd similarity matrix...\n",
            "Done computing similarity matrix.\n",
            "Computing the msd similarity matrix...\n",
            "Done computing similarity matrix.\n",
            "Computing the msd similarity matrix...\n",
            "Done computing similarity matrix.\n",
            "Computing the msd similarity matrix...\n",
            "Done computing similarity matrix.\n",
            "Computing the msd similarity matrix...\n",
            "Done computing similarity matrix.\n",
            "Computing the msd similarity matrix...\n",
            "Done computing similarity matrix.\n",
            "Computing the msd similarity matrix...\n",
            "Done computing similarity matrix.\n",
            "Computing the msd similarity matrix...\n",
            "Done computing similarity matrix.\n",
            "27\n",
            "Computing the msd similarity matrix...\n",
            "Done computing similarity matrix.\n",
            "Computing the msd similarity matrix...\n",
            "Done computing similarity matrix.\n",
            "Computing the msd similarity matrix...\n",
            "Done computing similarity matrix.\n",
            "Computing the msd similarity matrix...\n",
            "Done computing similarity matrix.\n",
            "Computing the msd similarity matrix...\n",
            "Done computing similarity matrix.\n",
            "Computing the msd similarity matrix...\n",
            "Done computing similarity matrix.\n",
            "Computing the msd similarity matrix...\n",
            "Done computing similarity matrix.\n",
            "Computing the msd similarity matrix...\n",
            "Done computing similarity matrix.\n",
            "Computing the msd similarity matrix...\n",
            "Done computing similarity matrix.\n",
            "Computing the msd similarity matrix...\n",
            "Done computing similarity matrix.\n",
            "28\n",
            "Computing the msd similarity matrix...\n",
            "Done computing similarity matrix.\n",
            "Computing the msd similarity matrix...\n",
            "Done computing similarity matrix.\n",
            "Computing the msd similarity matrix...\n",
            "Done computing similarity matrix.\n",
            "Computing the msd similarity matrix...\n",
            "Done computing similarity matrix.\n",
            "Computing the msd similarity matrix...\n",
            "Done computing similarity matrix.\n",
            "Computing the msd similarity matrix...\n",
            "Done computing similarity matrix.\n",
            "Computing the msd similarity matrix...\n",
            "Done computing similarity matrix.\n",
            "Computing the msd similarity matrix...\n",
            "Done computing similarity matrix.\n",
            "Computing the msd similarity matrix...\n",
            "Done computing similarity matrix.\n",
            "Computing the msd similarity matrix...\n",
            "Done computing similarity matrix.\n",
            "29\n",
            "Computing the msd similarity matrix...\n",
            "Done computing similarity matrix.\n",
            "Computing the msd similarity matrix...\n",
            "Done computing similarity matrix.\n",
            "Computing the msd similarity matrix...\n",
            "Done computing similarity matrix.\n",
            "Computing the msd similarity matrix...\n",
            "Done computing similarity matrix.\n",
            "Computing the msd similarity matrix...\n",
            "Done computing similarity matrix.\n",
            "Computing the msd similarity matrix...\n",
            "Done computing similarity matrix.\n",
            "Computing the msd similarity matrix...\n",
            "Done computing similarity matrix.\n",
            "Computing the msd similarity matrix...\n",
            "Done computing similarity matrix.\n",
            "Computing the msd similarity matrix...\n",
            "Done computing similarity matrix.\n",
            "Computing the msd similarity matrix...\n",
            "Done computing similarity matrix.\n"
          ]
        }
      ],
      "source": [
        "u_rmses = []\n",
        "u_maes = []\n",
        "i_rmses = []\n",
        "i_maes = []\n",
        "\n",
        "num_k = list(range(1, 30))\n",
        "\n",
        "for k in num_k:\n",
        "    print(k)\n",
        "    u_cf = KNNBasic(k=k, sim_options={'user_based': True})\n",
        "    u_run = cross_validate(u_cf, data, measures=['RMSE', 'MAE'], cv=5)\n",
        "    u_rmse = u_run['test_rmse'].mean()\n",
        "    u_rmses.append(u_rmse)\n",
        "    u_mae = u_run['test_mae'].mean()\n",
        "    u_maes.append(u_mae)\n",
        "\n",
        "    i_cf = KNNBasic(k=k, sim_options={'user_based': False})\n",
        "    i_run = cross_validate(i_cf, data, measures=['RMSE', 'MAE'], cv=5)\n",
        "    i_rmse = i_run['test_rmse'].mean()\n",
        "    i_rmses.append(i_rmse)\n",
        "    i_mae = i_run['test_mae'].mean()\n",
        "    i_maes.append(i_mae)"
      ]
    },
    {
      "cell_type": "code",
      "source": [
        "plt.plot(num_k, u_rmses, label='User CF')\n",
        "plt.plot(num_k, i_rmses, label='Item CF')\n",
        "plt.title('Impact of Number of Neighbors K on RMSE')\n",
        "plt.xlabel('Number of Neighbors K')\n",
        "plt.ylabel('RMSE')\n",
        "plt.legend()\n",
        "plt.show()"
      ],
      "metadata": {
        "colab": {
          "base_uri": "https://localhost:8080/",
          "height": 472
        },
        "id": "LEMo_L6KAWKn",
        "outputId": "d4b2cb37-c371-4a80-c57c-9e08788f1ac4"
      },
      "execution_count": 57,
      "outputs": [
        {
          "output_type": "display_data",
          "data": {
            "text/plain": [
              "<Figure size 640x480 with 1 Axes>"
            ],
            "image/png": "[encoded data removed]"
          },
          "metadata": {}
        }
      ]
    },
    {
      "cell_type": "code",
      "source": [
        "plt.plot(num_k, u_maes, label='User CF')\n",
        "plt.plot(num_k, i_maes, label='Item CF')\n",
        "plt.title('Impact of Number of Neighbors K on MAE')\n",
        "plt.xlabel('Number of Neighbors K')\n",
        "plt.ylabel('MAE')\n",
        "plt.legend()\n",
        "plt.show()"
      ],
      "metadata": {
        "colab": {
          "base_uri": "https://localhost:8080/",
          "height": 472
        },
        "id": "tGFtgQw-AYBQ",
        "outputId": "ef4bb94c-64b9-4f3d-ed1e-eea5188888c3"
      },
      "execution_count": 58,
      "outputs": [
        {
          "output_type": "display_data",
          "data": {
            "text/plain": [
              "<Figure size 640x480 with 1 Axes>"
            ],
            "image/png": "[encoded data removed]"
          },
          "metadata": {}
        }
      ]
    },
    {
      "cell_type": "code",
      "execution_count": 59,
      "metadata": {
        "colab": {
          "base_uri": "https://localhost:8080/"
        },
        "id": "-HBDhgX3tWwJ",
        "outputId": "77847067-abaa-4020-f8f8-666767f01442"
      },
      "outputs": [
        {
          "output_type": "stream",
          "name": "stdout",
          "text": [
            "14 0.9613120867602956\n",
            "28 0.9392322333299955\n"
          ]
        }
      ],
      "source": [
        "min_rmse_u = min(u_rmses)\n",
        "min_rmse_i = min(i_rmses)\n",
        "\n",
        "min_rmse_u_idx = u_rmses.index(min_rmse_u)\n",
        "min_rmse_i_idx  =i_rmses.index(min_rmse_i)\n",
        "\n",
        "print(min_rmse_u_idx+1, min_rmse_u)\n",
        "print(min_rmse_i_idx+1, min_rmse_i)"
      ]
    },
    {
      "cell_type": "code",
      "execution_count": 60,
      "metadata": {
        "colab": {
          "base_uri": "https://localhost:8080/"
        },
        "id": "MFYbvQw-tcFs",
        "outputId": "5a39f170-786b-4501-bd7a-93a943f44647"
      },
      "outputs": [
        {
          "output_type": "stream",
          "name": "stdout",
          "text": [
            "14 0.7359956740574083\n",
            "28 0.7251862372019098\n"
          ]
        }
      ],
      "source": [
        "min_mae_u = min(u_maes)\n",
        "min_mae_i = min(i_maes)\n",
        "\n",
        "min_mae_u_idx = u_maes.index(min_mae_u)\n",
        "min_mae_i_idx  =i_maes.index(min_mae_i)\n",
        "\n",
        "print(min_mae_u_idx+1, min_mae_u)\n",
        "print(min_mae_i_idx+1, min_mae_i)"
      ]
    }
  ],
  "metadata": {
    "colab": {
      "provenance": []
    },
    "kernelspec": {
      "display_name": "Python 3",
      "name": "python3"
    },
    "language_info": {
      "name": "python"
    }
  },
  "nbformat": 4,
  "nbformat_minor": 0
}